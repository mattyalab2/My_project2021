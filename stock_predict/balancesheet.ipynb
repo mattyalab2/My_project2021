{
 "cells": [
  {
   "cell_type": "code",
   "execution_count": 1,
   "metadata": {},
   "outputs": [],
   "source": [
    "import matplotlib.pyplot as plt\n",
    "import pandas as pd"
   ]
  },
  {
   "cell_type": "code",
   "execution_count": 2,
   "metadata": {},
   "outputs": [],
   "source": [
    "Current = [\"Cash & Cash_Equivalents\",\"Accounts_Receivable\",\"Current_Liabilities\", \"Current_Asset\"]\n",
    "Long = [\"Property, Plant_and_Equipment\", \"Intangible asset\", \"投資その他の資産\", \"Long-term_Liabilities\"]"
   ]
  },
  {
   "cell_type": "code",
   "execution_count": 3,
   "metadata": {},
   "outputs": [],
   "source": [
    "import csv\n",
    "\n",
    "row1 = [\"Cash & Cash_Equivalents\", \"Accounts_Receivable\", \"Current_Asset\", \"Property, Plant_and_Equipment\", \"無形固定資産\", \"投資その他の資産\"]\n",
    "row2 = [\"2,993,041\", \"487,230\", \"111,299\", \"51,782\", \"7,005\", \"400,091\"]\n",
    "\n",
    "row3 = [\"Current_Liabilities\", \"Long-term_liabilities\", \"Retained_earnings\", \"Total_Equity\", \"AOCI\", \"-\"]\n",
    "row4 = [\"702,619\", \"2,200\", \"2,236,897\", \"1,101,094\", \"7,638\", \"0\"]\n",
    "\n",
    "with open('BalanceSeat.csv', 'w') as f:\n",
    "    w = csv.writer(f, lineterminator='\\n')\n",
    "    for i in range(6):\n",
    "        w.writerow([row1[i], row2[i], row3[i], row4[i]])"
   ]
  },
  {
   "cell_type": "code",
   "execution_count": 4,
   "metadata": {},
   "outputs": [],
   "source": [
    "df = pd.read_csv('BalanceSeat.csv', \n",
    "                 names=('ass', 'ass_value', 'lia', 'lia_value'))"
   ]
  },
  {
   "cell_type": "code",
   "execution_count": 5,
   "metadata": {},
   "outputs": [],
   "source": [
    "length = 0\n",
    "for value in df.ass_value:\n",
    "    length += int(value.replace(\",\", \"\"))"
   ]
  },
  {
   "cell_type": "code",
   "execution_count": 6,
   "metadata": {},
   "outputs": [
    {
     "name": "stdout",
     "output_type": "stream",
     "text": [
      "4050448\n"
     ]
    }
   ],
   "source": [
    "print(length)"
   ]
  },
  {
   "cell_type": "code",
   "execution_count": 7,
   "metadata": {},
   "outputs": [],
   "source": [
    "def graph(x, data, data_name, color1, color2):\n",
    "    cum = 0\n",
    "    for i in range(0, len(data))[::-1]:\n",
    "        if data_name[i] in Current:\n",
    "            color = color1\n",
    "        elif data_name[i] in Long:\n",
    "            color = color2\n",
    "        else :\n",
    "            color = \"#ffff7f\"\n",
    "        y = int(data[i].replace(\",\", \"\"))\n",
    "        \n",
    "        ax.bar(x, y, width=1.0, bottom=cum, color=\"{}\".format(color), edgecolor=\"black\")\n",
    "        if y > length / 20:\n",
    "            ax.text(x, cum+0.4*y, \"{0}({1})\".format(data_name[i], data[i]), \n",
    "                    ha='center', va='bottom', fontdict={'family': 'IPAexGothic'})\n",
    "        cum += y"
   ]
  },
  {
   "cell_type": "code",
   "execution_count": 8,
   "metadata": {},
   "outputs": [
    {
     "name": "stderr",
     "output_type": "stream",
     "text": [
      "findfont: Font family ['IPAexGothic'] not found. Falling back to DejaVu Sans.\n",
      "C:\\Users\\inmyh\\anaconda3\\lib\\site-packages\\matplotlib\\backends\\backend_agg.py:211: RuntimeWarning: Glyph 25237 missing from current font.\n",
      "  font.set_text(s, 0.0, flags=flags)\n",
      "C:\\Users\\inmyh\\anaconda3\\lib\\site-packages\\matplotlib\\backends\\backend_agg.py:211: RuntimeWarning: Glyph 36039 missing from current font.\n",
      "  font.set_text(s, 0.0, flags=flags)\n",
      "C:\\Users\\inmyh\\anaconda3\\lib\\site-packages\\matplotlib\\backends\\backend_agg.py:211: RuntimeWarning: Glyph 12381 missing from current font.\n",
      "  font.set_text(s, 0.0, flags=flags)\n",
      "C:\\Users\\inmyh\\anaconda3\\lib\\site-packages\\matplotlib\\backends\\backend_agg.py:211: RuntimeWarning: Glyph 12398 missing from current font.\n",
      "  font.set_text(s, 0.0, flags=flags)\n",
      "C:\\Users\\inmyh\\anaconda3\\lib\\site-packages\\matplotlib\\backends\\backend_agg.py:211: RuntimeWarning: Glyph 20182 missing from current font.\n",
      "  font.set_text(s, 0.0, flags=flags)\n",
      "C:\\Users\\inmyh\\anaconda3\\lib\\site-packages\\matplotlib\\backends\\backend_agg.py:211: RuntimeWarning: Glyph 29987 missing from current font.\n",
      "  font.set_text(s, 0.0, flags=flags)\n",
      "C:\\Users\\inmyh\\anaconda3\\lib\\site-packages\\matplotlib\\backends\\backend_agg.py:180: RuntimeWarning: Glyph 25237 missing from current font.\n",
      "  font.set_text(s, 0, flags=flags)\n",
      "C:\\Users\\inmyh\\anaconda3\\lib\\site-packages\\matplotlib\\backends\\backend_agg.py:180: RuntimeWarning: Glyph 36039 missing from current font.\n",
      "  font.set_text(s, 0, flags=flags)\n",
      "C:\\Users\\inmyh\\anaconda3\\lib\\site-packages\\matplotlib\\backends\\backend_agg.py:180: RuntimeWarning: Glyph 12381 missing from current font.\n",
      "  font.set_text(s, 0, flags=flags)\n",
      "C:\\Users\\inmyh\\anaconda3\\lib\\site-packages\\matplotlib\\backends\\backend_agg.py:180: RuntimeWarning: Glyph 12398 missing from current font.\n",
      "  font.set_text(s, 0, flags=flags)\n",
      "C:\\Users\\inmyh\\anaconda3\\lib\\site-packages\\matplotlib\\backends\\backend_agg.py:180: RuntimeWarning: Glyph 20182 missing from current font.\n",
      "  font.set_text(s, 0, flags=flags)\n",
      "C:\\Users\\inmyh\\anaconda3\\lib\\site-packages\\matplotlib\\backends\\backend_agg.py:180: RuntimeWarning: Glyph 29987 missing from current font.\n",
      "  font.set_text(s, 0, flags=flags)\n"
     ]
    },
    {
     "data": {
      "image/png": "[encoded data removed]",
      "text/plain": [
       "<Figure size 360x288 with 1 Axes>"
      ]
     },
     "metadata": {},
     "output_type": "display_data"
    }
   ],
   "source": [
    "fig, ax = plt.subplots(figsize=(5, 4))\n",
    "fig.suptitle(\"Total Assess:{:,}\".format(length))\n",
    "ax.set_xlim(-1, 1)\n",
    "ax.set_ylim(0, length)\n",
    "ax.tick_params(labelbottom=False, labelleft=False, left=False, bottom=False)\n",
    "\n",
    "graph(-0.5, df.ass_value, df.ass, \"#b2d8ff\", \"#7fbfff\")\n",
    "graph(0.5, df.lia_value, df.lia, \"#ffb2b2\", \"#ff7f7f\")\n",
    "\n",
    "plt.show()"
   ]
  },
  {
   "cell_type": "code",
   "execution_count": null,
   "metadata": {},
   "outputs": [],
   "source": []
  },
  {
   "cell_type": "code",
   "execution_count": null,
   "metadata": {},
   "outputs": [],
   "source": []
  }
 ],
 "metadata": {
  "kernelspec": {
   "display_name": "Python 3",
   "language": "python",
   "name": "python3"
  },
  "language_info": {
   "codemirror_mode": {
    "name": "ipython",
    "version": 3
   },
   "file_extension": ".py",
   "mimetype": "text/x-python",
   "name": "python",
   "nbconvert_exporter": "python",
   "pygments_lexer": "ipython3",
   "version": "3.7.6"
  }
 },
 "nbformat": 4,
 "nbformat_minor": 4
}
