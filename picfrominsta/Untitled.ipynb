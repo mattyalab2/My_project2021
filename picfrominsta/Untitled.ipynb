{
 "cells": [
  {
   "cell_type": "code",
   "execution_count": 1,
   "metadata": {},
   "outputs": [],
   "source": [
    "import csv\n",
    "import sys, os\n",
    "import time\n",
    "import requests\n",
    "import chromedriver_binary\n",
    "from bs4 import BeautifulSoup\n",
    "from selenium import webdriver"
   ]
  },
  {
   "cell_type": "code",
   "execution_count": 2,
   "metadata": {},
   "outputs": [],
   "source": [
    "class InstaScrape():\n",
    "    def __init__(self):\n",
    "        self.driver = None\n",
    "        self.posts = []\n",
    "        self.savedir = \"C:\\\\Users\\\\inmyh\\\\mattyavlog\\\\static\\\\image\\\\instagram\\\\mattya_lab\"\n",
    "        self.exists = []\n",
    "        self.cnt = 0\n",
    "    \n",
    "    def scrape(self):\n",
    "        self.driver = webdriver.Chrome() \n",
    "        self.login()\n",
    "        self.collectlinks()\n",
    "        self.makefile()\n",
    "        self.downloadpics()\n",
    "        self.driver.quit()\n",
    "        self.driver = None\n",
    "        \n",
    "    def login(self):\n",
    "        self.driver.get('https://www.instagram.com/accounts/login/')\n",
    "        self.driver.implicitly_wait(10)\n",
    "        self.driver.find_element_by_name('username').send_keys('mattya_lab')\n",
    "        self.driver.find_element_by_name('password').send_keys('is0378er')\n",
    "        self.driver.find_element_by_class_name('L3NKy       ').click()\n",
    "        self.driver.implicitly_wait(10)\n",
    "        time.sleep(5)\n",
    "        \n",
    "    def collectlinks(self):\n",
    "        self.driver.get('https://www.instagram.com/mattya_lab/')\n",
    "        self.driver.implicitly_wait(10)\n",
    "        lenOfPage = self.driver.execute_script(\"window.scrollTo(0, document.body.scrollHeight);var lenOfPage=document.body.scrollHeight;return lenOfPage;\")\n",
    "        match=False\n",
    "        while(match==False):\n",
    "            lastCount = lenOfPage\n",
    "            time.sleep(3)\n",
    "            lenOfPage = self.driver.execute_script(\"window.scrollTo(0, document.body.scrollHeight);var lenOfPage=document.body.scrollHeight;return lenOfPage;\")\n",
    "            if lastCount==lenOfPage:\n",
    "                match=True\n",
    "   \n",
    "        links = self.driver.find_elements_by_tag_name('a')\n",
    "        for link in links:\n",
    "            post = link.get_attribute('href')\n",
    "            if '/p/' in post:\n",
    "                self.posts.append(post)\n",
    "    \n",
    "    def makefile(self):\n",
    "        if not os.path.isdir(self.savedir):\n",
    "            os.mkdir(self.savedir)\n",
    "            \n",
    "    def readexistfile(self):\n",
    "        self.exists = []\n",
    "        self.cnt = 0\n",
    "        with open('exists.csv', 'r', newline='') as f:\n",
    "            reader = f.readline().replace('\\r\\n','')\n",
    "            while reader:\n",
    "                self.cnt = self.cnt + 1\n",
    "                self.exists.append(reader)\n",
    "                reader = f.readline().replace('\\r\\n', '')\n",
    "    \n",
    "    def writeexistfile(self):\n",
    "        with open('exists.csv', 'w', newline='') as f:\n",
    "            writer = csv.writer(f)\n",
    "            for row in range(len(self.exists)):\n",
    "                writer.writerow([self.exists[row]])\n",
    "                \n",
    "    def downloadpics(self):\n",
    "        self.readexistfile()\n",
    "        img_src = []\n",
    "        for post in self.posts:\n",
    "            self.driver.get(post)\n",
    "            self.driver.implicitly_wait(10)\n",
    "            \n",
    "            # Get shortcode\n",
    "            shortcode = self.driver.current_url.split('/')[-2]\n",
    "            f = True\n",
    "            for i in range(len(self.exists)):\n",
    "                if shortcode == self.exists[i]:\n",
    "                    f = False\n",
    "            if f:\n",
    "                print(shortcode)\n",
    "                self.exists.append(shortcode)\n",
    "                for data in self.driver.find_elements_by_class_name('FFVAD'):\n",
    "                    img_src.append(data.get_attribute('src'))\n",
    "\n",
    "        for src in img_src:\n",
    "            filepath = self.savedir + '\\\\' + str(self.cnt)+'.jpg'\n",
    "            img = requests.get(src)\n",
    "            with open(filepath, 'wb') as f:\n",
    "                f.write(img.content)\n",
    "            self.cnt = self.cnt + 1\n",
    "        self.writeexistfile()"
   ]
  },
  {
   "cell_type": "code",
   "execution_count": 3,
   "metadata": {
    "scrolled": false
   },
   "outputs": [
    {
     "name": "stdout",
     "output_type": "stream",
     "text": [
      "CG1IA_HgOxI\n"
     ]
    }
   ],
   "source": [
    "insta = InstaScrape()\n",
    "insta.scrape()"
   ]
  },
  {
   "cell_type": "code",
   "execution_count": 4,
   "metadata": {},
   "outputs": [
    {
     "data": {
      "text/plain": [
       "['CFpHR3ZFr7o',\n",
       " 'CFmp13mFwVG',\n",
       " 'CF4pTTmAmKe',\n",
       " 'CF4odFPAFe3',\n",
       " 'CGFW1G8AtmZ',\n",
       " 'CG1IA_HgOxI']"
      ]
     },
     "execution_count": 4,
     "metadata": {},
     "output_type": "execute_result"
    }
   ],
   "source": [
    "insta.exists"
   ]
  },
  {
   "cell_type": "code",
   "execution_count": 5,
   "metadata": {},
   "outputs": [],
   "source": [
    "insta.scrape()"
   ]
  },
  {
   "cell_type": "code",
   "execution_count": 6,
   "metadata": {},
   "outputs": [
    {
     "data": {
      "text/plain": [
       "['CFpHR3ZFr7o',\n",
       " 'CFmp13mFwVG',\n",
       " 'CF4pTTmAmKe',\n",
       " 'CF4odFPAFe3',\n",
       " 'CGFW1G8AtmZ',\n",
       " 'CG1IA_HgOxI']"
      ]
     },
     "execution_count": 6,
     "metadata": {},
     "output_type": "execute_result"
    }
   ],
   "source": [
    "insta.exists"
   ]
  },
  {
   "cell_type": "code",
   "execution_count": null,
   "metadata": {},
   "outputs": [],
   "source": []
  }
 ],
 "metadata": {
  "kernelspec": {
   "display_name": "Python 3",
   "language": "python",
   "name": "python3"
  },
  "language_info": {
   "codemirror_mode": {
    "name": "ipython",
    "version": 3
   },
   "file_extension": ".py",
   "mimetype": "text/x-python",
   "name": "python",
   "nbconvert_exporter": "python",
   "pygments_lexer": "ipython3",
   "version": "3.7.6"
  }
 },
 "nbformat": 4,
 "nbformat_minor": 4
}
